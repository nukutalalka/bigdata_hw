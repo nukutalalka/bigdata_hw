{
 "cells": [
  {
   "cell_type": "code",
   "execution_count": 1,
   "metadata": {},
   "outputs": [],
   "source": [
    "from pyspark import SparkContext\n",
    "import ast\n",
    "import pandas as pd"
   ]
  },
  {
   "cell_type": "code",
   "execution_count": 2,
   "metadata": {},
   "outputs": [],
   "source": [
    "sc = SparkContext(appName =\"ReviewAnalyzer\")"
   ]
  },
  {
   "cell_type": "markdown",
   "metadata": {},
   "source": [
    "# Перед импортом файлов, они были предварительно залиты в hdfs с помощью команд:\n",
    "./hdfs dfs -copyFromLocal /home/ubuntu/Desktop/meta_Electronics.json /HW1_2_meta\n",
    "./hdfs dfs -copyFromLocal /home/ubuntu/Desktop/Electronics_5.json /HW1_2_electronics\n"
   ]
  },
  {
   "cell_type": "code",
   "execution_count": 3,
   "metadata": {},
   "outputs": [],
   "source": [
    "# Загрузка и парсинг данных из HDFS\n",
    "meta_data = sc.textFile(\"/HW1_2_meta\").map(lambda x: ast.literal_eval(x))\n",
    "ratings_data = sc.textFile(\"/HW1_2_electronics\").map(lambda x: ast.literal_eval(x))\n"
   ]
  },
  {
   "cell_type": "code",
   "execution_count": 4,
   "metadata": {},
   "outputs": [],
   "source": [
    "# Вычисление среднего рейтинга для каждого товара\n",
    "ratings_rdd = ratings_data.map(lambda x: (x['asin'], x['overall'])).groupByKey()\n",
    "average_ratings = ratings_rdd.mapValues(lambda x: sum(x) / len(x))\n"
   ]
  },
  {
   "cell_type": "code",
   "execution_count": 5,
   "metadata": {},
   "outputs": [],
   "source": [
    "# Сопоставление данных с наименованиями товаров\n",
    "products_rdd = meta_data.map(lambda x: (x['asin'], x.get('title', 'Unknown')))\n",
    "joined_rdd = average_ratings.join(products_rdd)"
   ]
  },
  {
   "cell_type": "code",
   "execution_count": 6,
   "metadata": {},
   "outputs": [],
   "source": [
    "# Формирование RDD товаров с рейтингом меньше 3 и вывод топ-10\n",
    "low_rated_products = joined_rdd.filter(lambda x: x[1][0] < 3)\n",
    "top_10_low_rated = low_rated_products.takeOrdered(10, key=lambda x: x[1][0])\n"
   ]
  },
  {
   "cell_type": "code",
   "execution_count": 7,
   "metadata": {},
   "outputs": [
    {
     "data": {
      "text/html": [
       "<div>\n",
       "<style scoped>\n",
       "    .dataframe tbody tr th:only-of-type {\n",
       "        vertical-align: middle;\n",
       "    }\n",
       "\n",
       "    .dataframe tbody tr th {\n",
       "        vertical-align: top;\n",
       "    }\n",
       "\n",
       "    .dataframe thead th {\n",
       "        text-align: right;\n",
       "    }\n",
       "</style>\n",
       "<table border=\"1\" class=\"dataframe\">\n",
       "  <thead>\n",
       "    <tr style=\"text-align: right;\">\n",
       "      <th></th>\n",
       "      <th>asin</th>\n",
       "      <th>Средний рейтинг</th>\n",
       "      <th>Наименование товара</th>\n",
       "    </tr>\n",
       "  </thead>\n",
       "  <tbody>\n",
       "    <tr>\n",
       "      <th>0</th>\n",
       "      <td>B000H13L4Y</td>\n",
       "      <td>1.0</td>\n",
       "      <td>ATI TV Wonder 200 PCI Video Card w/PVR Capabil...</td>\n",
       "    </tr>\n",
       "    <tr>\n",
       "      <th>1</th>\n",
       "      <td>B00111JODG</td>\n",
       "      <td>1.0</td>\n",
       "      <td>StarTech HDMISPL1HH 1 feet Standard HDMI Cable...</td>\n",
       "    </tr>\n",
       "    <tr>\n",
       "      <th>2</th>\n",
       "      <td>B000F1ORW6</td>\n",
       "      <td>1.0</td>\n",
       "      <td>GE 24746 Futura HDTV Ready Antenna</td>\n",
       "    </tr>\n",
       "    <tr>\n",
       "      <th>3</th>\n",
       "      <td>B001T9N0R6</td>\n",
       "      <td>1.0</td>\n",
       "      <td>Zeikos 57-in-1 USB 2.0 Flash Memory Card Reade...</td>\n",
       "    </tr>\n",
       "    <tr>\n",
       "      <th>4</th>\n",
       "      <td>B001BLN91Y</td>\n",
       "      <td>1.0</td>\n",
       "      <td>Maxtor OneTouch 4 - 1 TB USB 2.0 Desktop Exter...</td>\n",
       "    </tr>\n",
       "    <tr>\n",
       "      <th>5</th>\n",
       "      <td>B000NNFS4C</td>\n",
       "      <td>1.0</td>\n",
       "      <td>RCA DRC8335 DVD Recorder &amp;amp; VCR Combo With ...</td>\n",
       "    </tr>\n",
       "    <tr>\n",
       "      <th>6</th>\n",
       "      <td>B003KIQTXG</td>\n",
       "      <td>1.0</td>\n",
       "      <td>NEEWER&amp;reg; Photographic Barn Door &amp;amp; Honey...</td>\n",
       "    </tr>\n",
       "    <tr>\n",
       "      <th>7</th>\n",
       "      <td>B00000JBIA</td>\n",
       "      <td>1.0</td>\n",
       "      <td>Agfa ePhoto SMILE 0.2MP Digital Camera</td>\n",
       "    </tr>\n",
       "    <tr>\n",
       "      <th>8</th>\n",
       "      <td>B0013WI5SS</td>\n",
       "      <td>1.0</td>\n",
       "      <td>Dynex-DX-AP100 Adapter Mini DVI to Mini-DIN</td>\n",
       "    </tr>\n",
       "    <tr>\n",
       "      <th>9</th>\n",
       "      <td>B004GGRPGG</td>\n",
       "      <td>1.0</td>\n",
       "      <td>Rapid USB Charger Adapters include: Wall and C...</td>\n",
       "    </tr>\n",
       "  </tbody>\n",
       "</table>\n",
       "</div>"
      ],
      "text/plain": [
       "         asin  Средний рейтинг  \\\n",
       "0  B000H13L4Y              1.0   \n",
       "1  B00111JODG              1.0   \n",
       "2  B000F1ORW6              1.0   \n",
       "3  B001T9N0R6              1.0   \n",
       "4  B001BLN91Y              1.0   \n",
       "5  B000NNFS4C              1.0   \n",
       "6  B003KIQTXG              1.0   \n",
       "7  B00000JBIA              1.0   \n",
       "8  B0013WI5SS              1.0   \n",
       "9  B004GGRPGG              1.0   \n",
       "\n",
       "                                 Наименование товара  \n",
       "0  ATI TV Wonder 200 PCI Video Card w/PVR Capabil...  \n",
       "1  StarTech HDMISPL1HH 1 feet Standard HDMI Cable...  \n",
       "2                 GE 24746 Futura HDTV Ready Antenna  \n",
       "3  Zeikos 57-in-1 USB 2.0 Flash Memory Card Reade...  \n",
       "4  Maxtor OneTouch 4 - 1 TB USB 2.0 Desktop Exter...  \n",
       "5  RCA DRC8335 DVD Recorder &amp; VCR Combo With ...  \n",
       "6  NEEWER&reg; Photographic Barn Door &amp; Honey...  \n",
       "7             Agfa ePhoto SMILE 0.2MP Digital Camera  \n",
       "8        Dynex-DX-AP100 Adapter Mini DVI to Mini-DIN  \n",
       "9  Rapid USB Charger Adapters include: Wall and C...  "
      ]
     },
     "metadata": {},
     "output_type": "display_data"
    }
   ],
   "source": [
    "data = [\n",
    "    (product[0], product[1][0], product[1][1])\n",
    "    for product in top_10_low_rated\n",
    "]\n",
    "df = pd.DataFrame(data, columns=[\"asin\", \"Средний рейтинг\", \"Наименование товара\"])\n",
    "\n",
    "display(df)"
   ]
  },
  {
   "cell_type": "code",
   "execution_count": 9,
   "metadata": {},
   "outputs": [],
   "source": [
    "low_rated_products.saveAsTextFile(\"/HW1_2_output\")"
   ]
  },
  {
   "cell_type": "markdown",
   "metadata": {},
   "source": [
    "# чтобы скачать файл с hdfs хранилища я использовал команду\n",
    "./hdfs dfs -copyToLocal /HW1_2_output /home/ubuntu/Desktop/HW1_2_output"
   ]
  },
  {
   "cell_type": "markdown",
   "metadata": {},
   "source": []
  },
  {
   "cell_type": "code",
   "execution_count": null,
   "metadata": {},
   "outputs": [],
   "source": []
  }
 ],
 "metadata": {
  "kernelspec": {
   "display_name": "spark-python",
   "language": "",
   "name": "spark-python"
  },
  "language_info": {
   "codemirror_mode": {
    "name": "ipython",
    "version": 3
   },
   "file_extension": ".py",
   "mimetype": "text/x-python",
   "name": "python",
   "nbconvert_exporter": "python",
   "pygments_lexer": "ipython3",
   "version": "3.7.3"
  }
 },
 "nbformat": 4,
 "nbformat_minor": 2
}
