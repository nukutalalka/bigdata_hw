{
 "cells": [
  {
   "cell_type": "code",
   "execution_count": 1,
   "metadata": {},
   "outputs": [],
   "source": [
    "from pyspark.sql import SparkSession\n",
    "import pandas as pd"
   ]
  },
  {
   "cell_type": "code",
   "execution_count": 2,
   "metadata": {},
   "outputs": [],
   "source": [
    "from pyspark.sql.functions import col, sqrt\n",
    "from pyspark.sql import functions as F\n",
    "from pyspark.ml.linalg import Vectors\n",
    "from pyspark.ml.feature import Normalizer\n",
    "from pyspark.mllib.linalg.distributed import IndexedRow, IndexedRowMatrix\n",
    "import pyspark.sql.functions as F\n",
    "\n",
    "def cosine_similarity(matrix, movieId):\n",
    "    target = matrix.filter(matrix.movieId == movieId).first()\n",
    "    target_vector = Vectors.dense(target[1:])\n",
    "    norm_target = Vectors.norm(target_vector, 2)\n",
    "    def cos_sim(row):\n",
    "            vector = Vectors.dense(row[1:])\n",
    "            dot_product = target_vector.dot(vector)\n",
    "            norm = Vectors.norm(vector, 2)\n",
    "            similarity = float(dot_product / (norm_target * norm)) if norm != 0 else 0.0\n",
    "            return (row.movieId, similarity)\n",
    "\n",
    "    similarities = matrix.rdd.map(cos_sim)\n",
    "    return similarities"
   ]
  },
  {
   "cell_type": "code",
   "execution_count": 3,
   "metadata": {},
   "outputs": [],
   "source": [
    "spark = SparkSession.builder.appName(\"MovieAnalyzer\").getOrCreate()"
   ]
  },
  {
   "cell_type": "markdown",
   "metadata": {},
   "source": [
    "# Перед импортом файлов, они были предварительно залиты в hdfs с помощью команд:\n",
    "./hdfs dfs -copyFromLocal /home/ubuntu/Desktop/ratings.csv /HW1_3_ratings\n",
    "./hdfs dfs -copyFromLocal /home/ubuntu/Desktop/movies.csv /HW1_3_movies\n"
   ]
  },
  {
   "cell_type": "code",
   "execution_count": 4,
   "metadata": {},
   "outputs": [],
   "source": [
    "# Загрузка данных рейтингов\n",
    "ratings_df = spark.read.csv(\"/HW1_3_ratings\", header=True, inferSchema=True)\n",
    "ratings_df = ratings_df.select(\"userId\", \"movieId\", \"rating\")\n",
    "\n",
    "# Загрузка данных о фильмах\n",
    "movies_df = spark.read.csv(\"/HW1_3_movies\", header=True, inferSchema=True)\n",
    "movies_df = movies_df.select(\"movieId\", \"title\")\n",
    "movies_rdd = movies_df.rdd.map(lambda row: (row.movieId, row.title))"
   ]
  },
  {
   "cell_type": "code",
   "execution_count": 5,
   "metadata": {},
   "outputs": [],
   "source": [
    "movie_ratings = ratings_df.groupBy(\"movieId\").pivot(\"userId\").sum(\"rating\").na.fill(0)"
   ]
  },
  {
   "cell_type": "code",
   "execution_count": 6,
   "metadata": {},
   "outputs": [],
   "source": [
    "similarities_rdd = cosine_similarity(movie_ratings, 589)"
   ]
  },
  {
   "cell_type": "code",
   "execution_count": 7,
   "metadata": {},
   "outputs": [],
   "source": [
    "joined_rdd = similarities_rdd.join(movies_rdd)"
   ]
  },
  {
   "cell_type": "code",
   "execution_count": 8,
   "metadata": {},
   "outputs": [],
   "source": [
    "top_10_similar_movies_rdd = joined_rdd.filter(lambda x: x[0] != 589) \\\n",
    "                                     .sortBy(lambda x: x[1][0], ascending=False) \\\n",
    "                                     .map(lambda x: (x[0], x[1][1], x[1][0])) \\\n",
    "                                     .take(10)"
   ]
  },
  {
   "cell_type": "code",
   "execution_count": 9,
   "metadata": {},
   "outputs": [
    {
     "data": {
      "text/html": [
       "<div>\n",
       "<style scoped>\n",
       "    .dataframe tbody tr th:only-of-type {\n",
       "        vertical-align: middle;\n",
       "    }\n",
       "\n",
       "    .dataframe tbody tr th {\n",
       "        vertical-align: top;\n",
       "    }\n",
       "\n",
       "    .dataframe thead th {\n",
       "        text-align: right;\n",
       "    }\n",
       "</style>\n",
       "<table border=\"1\" class=\"dataframe\">\n",
       "  <thead>\n",
       "    <tr style=\"text-align: right;\">\n",
       "      <th></th>\n",
       "      <th>movieId</th>\n",
       "      <th>title</th>\n",
       "      <th>similarity</th>\n",
       "    </tr>\n",
       "  </thead>\n",
       "  <tbody>\n",
       "    <tr>\n",
       "      <th>0</th>\n",
       "      <td>480</td>\n",
       "      <td>Jurassic Park (1993)</td>\n",
       "      <td>0.719983</td>\n",
       "    </tr>\n",
       "    <tr>\n",
       "      <th>1</th>\n",
       "      <td>1240</td>\n",
       "      <td>Terminator, The (1984)</td>\n",
       "      <td>0.695724</td>\n",
       "    </tr>\n",
       "    <tr>\n",
       "      <th>2</th>\n",
       "      <td>110</td>\n",
       "      <td>Braveheart (1995)</td>\n",
       "      <td>0.659827</td>\n",
       "    </tr>\n",
       "    <tr>\n",
       "      <th>3</th>\n",
       "      <td>592</td>\n",
       "      <td>Batman (1989)</td>\n",
       "      <td>0.645603</td>\n",
       "    </tr>\n",
       "    <tr>\n",
       "      <th>4</th>\n",
       "      <td>457</td>\n",
       "      <td>Fugitive, The (1993)</td>\n",
       "      <td>0.637561</td>\n",
       "    </tr>\n",
       "    <tr>\n",
       "      <th>5</th>\n",
       "      <td>377</td>\n",
       "      <td>Speed (1994)</td>\n",
       "      <td>0.630092</td>\n",
       "    </tr>\n",
       "    <tr>\n",
       "      <th>6</th>\n",
       "      <td>1196</td>\n",
       "      <td>Star Wars: Episode V - The Empire Strikes Back...</td>\n",
       "      <td>0.618530</td>\n",
       "    </tr>\n",
       "    <tr>\n",
       "      <th>7</th>\n",
       "      <td>380</td>\n",
       "      <td>True Lies (1994)</td>\n",
       "      <td>0.611164</td>\n",
       "    </tr>\n",
       "    <tr>\n",
       "      <th>8</th>\n",
       "      <td>296</td>\n",
       "      <td>Pulp Fiction (1994)</td>\n",
       "      <td>0.610284</td>\n",
       "    </tr>\n",
       "    <tr>\n",
       "      <th>9</th>\n",
       "      <td>356</td>\n",
       "      <td>Forrest Gump (1994)</td>\n",
       "      <td>0.600886</td>\n",
       "    </tr>\n",
       "  </tbody>\n",
       "</table>\n",
       "</div>"
      ],
      "text/plain": [
       "   movieId                                              title  similarity\n",
       "0      480                               Jurassic Park (1993)    0.719983\n",
       "1     1240                             Terminator, The (1984)    0.695724\n",
       "2      110                                  Braveheart (1995)    0.659827\n",
       "3      592                                      Batman (1989)    0.645603\n",
       "4      457                               Fugitive, The (1993)    0.637561\n",
       "5      377                                       Speed (1994)    0.630092\n",
       "6     1196  Star Wars: Episode V - The Empire Strikes Back...    0.618530\n",
       "7      380                                   True Lies (1994)    0.611164\n",
       "8      296                                Pulp Fiction (1994)    0.610284\n",
       "9      356                                Forrest Gump (1994)    0.600886"
      ]
     },
     "metadata": {},
     "output_type": "display_data"
    }
   ],
   "source": [
    "data_to_display = pd.DataFrame(top_10_similar_movies_rdd, columns=['movieId', 'title', 'similarity'])\n",
    "display(data_to_display)"
   ]
  }
 ],
 "metadata": {
  "kernelspec": {
   "display_name": "spark-python",
   "language": "",
   "name": "spark-python"
  },
  "language_info": {
   "codemirror_mode": {
    "name": "ipython",
    "version": 3
   },
   "file_extension": ".py",
   "mimetype": "text/x-python",
   "name": "python",
   "nbconvert_exporter": "python",
   "pygments_lexer": "ipython3",
   "version": "3.7.3"
  }
 },
 "nbformat": 4,
 "nbformat_minor": 2
}
