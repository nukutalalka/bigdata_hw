{
 "cells": [
  {
   "cell_type": "code",
   "execution_count": 1,
   "metadata": {},
   "outputs": [],
   "source": [
    "from pyspark.sql import SparkSession\n",
    "import csv\n",
    "from math import radians, cos, sin, asin, sqrt\n",
    "import pandas as pd\n",
    "import math\n"
   ]
  },
  {
   "cell_type": "code",
   "execution_count": 2,
   "metadata": {},
   "outputs": [],
   "source": [
    "def calculate_distance(lat1, lon1, lat2, lon2):\n",
    "    R = 6371.0\n",
    "\n",
    "    lat1_rad = math.radians(lat1)\n",
    "    lon1_rad = math.radians(lon1)\n",
    "    lat2_rad = math.radians(lat2)\n",
    "    lon2_rad = math.radians(lon2)\n",
    "    \n",
    "    dlat = lat2_rad - lat1_rad\n",
    "    dlon = lon2_rad - lon1_rad\n",
    "\n",
    "    a = math.sin(dlat / 2)**2 + math.cos(lat1_rad) * math.cos(lat2_rad) * math.sin(dlon / 2)**2\n",
    "    c = 2 * math.atan2(math.sqrt(a), math.sqrt(1 - a))\n",
    "\n",
    "    distance = R * c * 1000 #m\n",
    "    return distance"
   ]
  },
  {
   "cell_type": "code",
   "execution_count": 3,
   "metadata": {},
   "outputs": [],
   "source": [
    "def display_results(data):\n",
    "    data_to_display = pd.DataFrame(data.take(10), columns=['Place', 'Distance'])\n",
    "    display(data_to_display)"
   ]
  },
  {
   "cell_type": "code",
   "execution_count": 4,
   "metadata": {},
   "outputs": [],
   "source": [
    "spark = SparkSession.builder.appName(\"CafeAnalyzer\").getOrCreate()"
   ]
  },
  {
   "cell_type": "code",
   "execution_count": 5,
   "metadata": {},
   "outputs": [],
   "source": [
    "columns = ['ID', 'Name', 'global_id', 'IsNetObject', 'OperatingCompany', 'TypeObject', 'AdmArea', 'District', 'Address', 'PublicPhone', 'SeatsCount', 'SocialPrivileges', 'Longitude_WGS84', 'Latitude_WGS84', 'geoData']"
   ]
  },
  {
   "cell_type": "markdown",
   "metadata": {},
   "source": [
    "# Перед импортом файлов, они были предварительно залиты в hdfs с помощью команд:\n",
    "./hdfs dfs -copyFromLocal /home/ubuntu/Desktop/places.csv /data"
   ]
  },
  {
   "cell_type": "code",
   "execution_count": 6,
   "metadata": {},
   "outputs": [],
   "source": [
    "df = spark.read.csv(\"/data\", header=False, inferSchema=True).toDF(*columns)"
   ]
  },
  {
   "cell_type": "code",
   "execution_count": 7,
   "metadata": {},
   "outputs": [
    {
     "name": "stdout",
     "output_type": "stream",
     "text": [
      "root\n",
      " |-- ID: integer (nullable = true)\n",
      " |-- Name: string (nullable = true)\n",
      " |-- global_id: integer (nullable = true)\n",
      " |-- IsNetObject: string (nullable = true)\n",
      " |-- OperatingCompany: string (nullable = true)\n",
      " |-- TypeObject: string (nullable = true)\n",
      " |-- AdmArea: string (nullable = true)\n",
      " |-- District: string (nullable = true)\n",
      " |-- Address: string (nullable = true)\n",
      " |-- PublicPhone: string (nullable = true)\n",
      " |-- SeatsCount: integer (nullable = true)\n",
      " |-- SocialPrivileges: string (nullable = true)\n",
      " |-- Longitude_WGS84: double (nullable = true)\n",
      " |-- Latitude_WGS84: double (nullable = true)\n",
      " |-- geoData: string (nullable = true)\n",
      "\n"
     ]
    }
   ],
   "source": [
    "df.printSchema()\n"
   ]
  },
  {
   "cell_type": "code",
   "execution_count": 8,
   "metadata": {},
   "outputs": [],
   "source": [
    "rdd = df.rdd"
   ]
  },
  {
   "cell_type": "code",
   "execution_count": 9,
   "metadata": {},
   "outputs": [],
   "source": [
    "lat, lng = 55.751244, 37.618423\n"
   ]
  },
  {
   "cell_type": "code",
   "execution_count": 10,
   "metadata": {},
   "outputs": [],
   "source": [
    "distances = rdd.map(lambda x: (x['Name'], calculate_distance(lng, lat, x['Longitude_WGS84'], x['Latitude_WGS84'])))"
   ]
  },
  {
   "cell_type": "code",
   "execution_count": 11,
   "metadata": {},
   "outputs": [
    {
     "data": {
      "text/html": [
       "<div>\n",
       "<style scoped>\n",
       "    .dataframe tbody tr th:only-of-type {\n",
       "        vertical-align: middle;\n",
       "    }\n",
       "\n",
       "    .dataframe tbody tr th {\n",
       "        vertical-align: top;\n",
       "    }\n",
       "\n",
       "    .dataframe thead th {\n",
       "        text-align: right;\n",
       "    }\n",
       "</style>\n",
       "<table border=\"1\" class=\"dataframe\">\n",
       "  <thead>\n",
       "    <tr style=\"text-align: right;\">\n",
       "      <th></th>\n",
       "      <th>Place</th>\n",
       "      <th>Distance</th>\n",
       "    </tr>\n",
       "  </thead>\n",
       "  <tbody>\n",
       "    <tr>\n",
       "      <th>0</th>\n",
       "      <td>Шоколадница</td>\n",
       "      <td>6969.517992</td>\n",
       "    </tr>\n",
       "    <tr>\n",
       "      <th>1</th>\n",
       "      <td>МУ-МУ</td>\n",
       "      <td>6965.617000</td>\n",
       "    </tr>\n",
       "    <tr>\n",
       "      <th>2</th>\n",
       "      <td>КОМБИНАТ ПИТАНИЯ МГТУ ИМ.Н.Э.БАУМАНА</td>\n",
       "      <td>6917.673365</td>\n",
       "    </tr>\n",
       "    <tr>\n",
       "      <th>3</th>\n",
       "      <td>Дом 12</td>\n",
       "      <td>4893.184433</td>\n",
       "    </tr>\n",
       "    <tr>\n",
       "      <th>4</th>\n",
       "      <td>Чито-Ра</td>\n",
       "      <td>5032.898030</td>\n",
       "    </tr>\n",
       "    <tr>\n",
       "      <th>5</th>\n",
       "      <td>Бар- буфет «Николай»</td>\n",
       "      <td>4446.534553</td>\n",
       "    </tr>\n",
       "    <tr>\n",
       "      <th>6</th>\n",
       "      <td>Флорентини</td>\n",
       "      <td>4536.377751</td>\n",
       "    </tr>\n",
       "    <tr>\n",
       "      <th>7</th>\n",
       "      <td>Beer Gik</td>\n",
       "      <td>2017.362604</td>\n",
       "    </tr>\n",
       "    <tr>\n",
       "      <th>8</th>\n",
       "      <td>Погребок</td>\n",
       "      <td>2017.362604</td>\n",
       "    </tr>\n",
       "    <tr>\n",
       "      <th>9</th>\n",
       "      <td>Пробка Гриль</td>\n",
       "      <td>2154.464400</td>\n",
       "    </tr>\n",
       "  </tbody>\n",
       "</table>\n",
       "</div>"
      ],
      "text/plain": [
       "                                  Place     Distance\n",
       "0                           Шоколадница  6969.517992\n",
       "1                                 МУ-МУ  6965.617000\n",
       "2  КОМБИНАТ ПИТАНИЯ МГТУ ИМ.Н.Э.БАУМАНА  6917.673365\n",
       "3                                Дом 12  4893.184433\n",
       "4                               Чито-Ра  5032.898030\n",
       "5                  Бар- буфет «Николай»  4446.534553\n",
       "6                            Флорентини  4536.377751\n",
       "7                              Beer Gik  2017.362604\n",
       "8                              Погребок  2017.362604\n",
       "9                          Пробка Гриль  2154.464400"
      ]
     },
     "metadata": {},
     "output_type": "display_data"
    }
   ],
   "source": [
    "display_results(distances)"
   ]
  },
  {
   "cell_type": "code",
   "execution_count": 12,
   "metadata": {},
   "outputs": [],
   "source": [
    "pairs = rdd.cartesian(rdd)\n",
    "distances_between = pairs.map(lambda x: ((x[0]['Name'], x[1]['Name']), calculate_distance(x[0]['Longitude_WGS84'], x[0]['Latitude_WGS84'], x[1]['Longitude_WGS84'], x[1]['Latitude_WGS84'])))\n",
    "filtered_distances = distances_between.filter(lambda x: x[0][0] != x[0][1]).distinct()"
   ]
  },
  {
   "cell_type": "code",
   "execution_count": 13,
   "metadata": {},
   "outputs": [
    {
     "data": {
      "text/html": [
       "<div>\n",
       "<style scoped>\n",
       "    .dataframe tbody tr th:only-of-type {\n",
       "        vertical-align: middle;\n",
       "    }\n",
       "\n",
       "    .dataframe tbody tr th {\n",
       "        vertical-align: top;\n",
       "    }\n",
       "\n",
       "    .dataframe thead th {\n",
       "        text-align: right;\n",
       "    }\n",
       "</style>\n",
       "<table border=\"1\" class=\"dataframe\">\n",
       "  <thead>\n",
       "    <tr style=\"text-align: right;\">\n",
       "      <th></th>\n",
       "      <th>Place</th>\n",
       "      <th>Distance</th>\n",
       "    </tr>\n",
       "  </thead>\n",
       "  <tbody>\n",
       "    <tr>\n",
       "      <th>0</th>\n",
       "      <td>(Шоколадница, МУ-МУ)</td>\n",
       "      <td>130.666047</td>\n",
       "    </tr>\n",
       "    <tr>\n",
       "      <th>1</th>\n",
       "      <td>(Шоколадница, КОМБИНАТ ПИТАНИЯ МГТУ ИМ.Н.Э.БАУ...</td>\n",
       "      <td>674.525953</td>\n",
       "    </tr>\n",
       "    <tr>\n",
       "      <th>2</th>\n",
       "      <td>(Шоколадница, Дом 12)</td>\n",
       "      <td>2119.366066</td>\n",
       "    </tr>\n",
       "    <tr>\n",
       "      <th>3</th>\n",
       "      <td>(Шоколадница, Чито-Ра)</td>\n",
       "      <td>2002.204035</td>\n",
       "    </tr>\n",
       "    <tr>\n",
       "      <th>4</th>\n",
       "      <td>(Шоколадница, Бар- буфет «Николай»)</td>\n",
       "      <td>2524.038187</td>\n",
       "    </tr>\n",
       "    <tr>\n",
       "      <th>5</th>\n",
       "      <td>(Шоколадница, Флорентини)</td>\n",
       "      <td>2434.066442</td>\n",
       "    </tr>\n",
       "    <tr>\n",
       "      <th>6</th>\n",
       "      <td>(Шоколадница, Beer Gik)</td>\n",
       "      <td>5016.245832</td>\n",
       "    </tr>\n",
       "    <tr>\n",
       "      <th>7</th>\n",
       "      <td>(Шоколадница, Погребок)</td>\n",
       "      <td>5016.245832</td>\n",
       "    </tr>\n",
       "    <tr>\n",
       "      <th>8</th>\n",
       "      <td>(Шоколадница, Пробка Гриль)</td>\n",
       "      <td>4876.102310</td>\n",
       "    </tr>\n",
       "    <tr>\n",
       "      <th>9</th>\n",
       "      <td>(Шоколадница, TEMPO DI PASTA)</td>\n",
       "      <td>4880.967076</td>\n",
       "    </tr>\n",
       "  </tbody>\n",
       "</table>\n",
       "</div>"
      ],
      "text/plain": [
       "                                               Place     Distance\n",
       "0                               (Шоколадница, МУ-МУ)   130.666047\n",
       "1  (Шоколадница, КОМБИНАТ ПИТАНИЯ МГТУ ИМ.Н.Э.БАУ...   674.525953\n",
       "2                              (Шоколадница, Дом 12)  2119.366066\n",
       "3                             (Шоколадница, Чито-Ра)  2002.204035\n",
       "4                (Шоколадница, Бар- буфет «Николай»)  2524.038187\n",
       "5                          (Шоколадница, Флорентини)  2434.066442\n",
       "6                            (Шоколадница, Beer Gik)  5016.245832\n",
       "7                            (Шоколадница, Погребок)  5016.245832\n",
       "8                        (Шоколадница, Пробка Гриль)  4876.102310\n",
       "9                      (Шоколадница, TEMPO DI PASTA)  4880.967076"
      ]
     },
     "metadata": {},
     "output_type": "display_data"
    }
   ],
   "source": [
    "display_results(filtered_distances)"
   ]
  },
  {
   "cell_type": "code",
   "execution_count": 14,
   "metadata": {},
   "outputs": [],
   "source": [
    "# Нахождение 10 наиболее близких и наиболее отдаленных заведений\n",
    "closest = distances.takeOrdered(10, key=lambda x: x[1])\n",
    "furthest = distances.takeOrdered(10, key=lambda x: -x[1])"
   ]
  },
  {
   "cell_type": "code",
   "execution_count": 15,
   "metadata": {},
   "outputs": [
    {
     "data": {
      "text/html": [
       "<div>\n",
       "<style scoped>\n",
       "    .dataframe tbody tr th:only-of-type {\n",
       "        vertical-align: middle;\n",
       "    }\n",
       "\n",
       "    .dataframe tbody tr th {\n",
       "        vertical-align: top;\n",
       "    }\n",
       "\n",
       "    .dataframe thead th {\n",
       "        text-align: right;\n",
       "    }\n",
       "</style>\n",
       "<table border=\"1\" class=\"dataframe\">\n",
       "  <thead>\n",
       "    <tr style=\"text-align: right;\">\n",
       "      <th></th>\n",
       "      <th>Pair</th>\n",
       "      <th>Distance</th>\n",
       "    </tr>\n",
       "  </thead>\n",
       "  <tbody>\n",
       "    <tr>\n",
       "      <th>0</th>\n",
       "      <td>Calabash Club</td>\n",
       "      <td>1425.016374</td>\n",
       "    </tr>\n",
       "    <tr>\n",
       "      <th>1</th>\n",
       "      <td>Залечь на дно</td>\n",
       "      <td>1425.016374</td>\n",
       "    </tr>\n",
       "    <tr>\n",
       "      <th>2</th>\n",
       "      <td>Политех</td>\n",
       "      <td>1425.016374</td>\n",
       "    </tr>\n",
       "    <tr>\n",
       "      <th>3</th>\n",
       "      <td>Антикафе Checkpoint</td>\n",
       "      <td>1425.016374</td>\n",
       "    </tr>\n",
       "    <tr>\n",
       "      <th>4</th>\n",
       "      <td>Шоколадница</td>\n",
       "      <td>1562.708553</td>\n",
       "    </tr>\n",
       "    <tr>\n",
       "      <th>5</th>\n",
       "      <td>БИБЛИОТЕКА Shisha Lounge</td>\n",
       "      <td>1588.875924</td>\n",
       "    </tr>\n",
       "    <tr>\n",
       "      <th>6</th>\n",
       "      <td>Му-Му</td>\n",
       "      <td>1588.875924</td>\n",
       "    </tr>\n",
       "    <tr>\n",
       "      <th>7</th>\n",
       "      <td>Мареа</td>\n",
       "      <td>1594.769780</td>\n",
       "    </tr>\n",
       "    <tr>\n",
       "      <th>8</th>\n",
       "      <td>Стейк Хаус «Бизон»</td>\n",
       "      <td>1602.388421</td>\n",
       "    </tr>\n",
       "    <tr>\n",
       "      <th>9</th>\n",
       "      <td>Софра</td>\n",
       "      <td>1613.146536</td>\n",
       "    </tr>\n",
       "  </tbody>\n",
       "</table>\n",
       "</div>"
      ],
      "text/plain": [
       "                       Pair     Distance\n",
       "0             Calabash Club  1425.016374\n",
       "1             Залечь на дно  1425.016374\n",
       "2                   Политех  1425.016374\n",
       "3       Антикафе Checkpoint  1425.016374\n",
       "4               Шоколадница  1562.708553\n",
       "5  БИБЛИОТЕКА Shisha Lounge  1588.875924\n",
       "6                     Му-Му  1588.875924\n",
       "7                     Мареа  1594.769780\n",
       "8        Стейк Хаус «Бизон»  1602.388421\n",
       "9                     Софра  1613.146536"
      ]
     },
     "metadata": {},
     "output_type": "display_data"
    }
   ],
   "source": [
    "distances_df = pd.DataFrame(closest, columns=['Pair', 'Distance'])\n",
    "display(distances_df)"
   ]
  },
  {
   "cell_type": "code",
   "execution_count": 16,
   "metadata": {},
   "outputs": [
    {
     "data": {
      "text/html": [
       "<div>\n",
       "<style scoped>\n",
       "    .dataframe tbody tr th:only-of-type {\n",
       "        vertical-align: middle;\n",
       "    }\n",
       "\n",
       "    .dataframe tbody tr th {\n",
       "        vertical-align: top;\n",
       "    }\n",
       "\n",
       "    .dataframe thead th {\n",
       "        text-align: right;\n",
       "    }\n",
       "</style>\n",
       "<table border=\"1\" class=\"dataframe\">\n",
       "  <thead>\n",
       "    <tr style=\"text-align: right;\">\n",
       "      <th></th>\n",
       "      <th>Pair</th>\n",
       "      <th>Distance</th>\n",
       "    </tr>\n",
       "  </thead>\n",
       "  <tbody>\n",
       "    <tr>\n",
       "      <th>0</th>\n",
       "      <td>МНИТИ</td>\n",
       "      <td>10624.894092</td>\n",
       "    </tr>\n",
       "    <tr>\n",
       "      <th>1</th>\n",
       "      <td>Школа 435</td>\n",
       "      <td>10057.758226</td>\n",
       "    </tr>\n",
       "    <tr>\n",
       "      <th>2</th>\n",
       "      <td>Школа 414</td>\n",
       "      <td>10051.011713</td>\n",
       "    </tr>\n",
       "    <tr>\n",
       "      <th>3</th>\n",
       "      <td>Византия</td>\n",
       "      <td>9871.888928</td>\n",
       "    </tr>\n",
       "    <tr>\n",
       "      <th>4</th>\n",
       "      <td>Мята Lounge</td>\n",
       "      <td>9547.175252</td>\n",
       "    </tr>\n",
       "    <tr>\n",
       "      <th>5</th>\n",
       "      <td>Bodrum</td>\n",
       "      <td>9420.643413</td>\n",
       "    </tr>\n",
       "    <tr>\n",
       "      <th>6</th>\n",
       "      <td>Ешь хлеб</td>\n",
       "      <td>9154.010995</td>\n",
       "    </tr>\n",
       "    <tr>\n",
       "      <th>7</th>\n",
       "      <td>Ля Фантази</td>\n",
       "      <td>9130.707662</td>\n",
       "    </tr>\n",
       "    <tr>\n",
       "      <th>8</th>\n",
       "      <td>ШефДонер</td>\n",
       "      <td>9130.707662</td>\n",
       "    </tr>\n",
       "    <tr>\n",
       "      <th>9</th>\n",
       "      <td>Take &amp; Wake</td>\n",
       "      <td>9130.707662</td>\n",
       "    </tr>\n",
       "  </tbody>\n",
       "</table>\n",
       "</div>"
      ],
      "text/plain": [
       "          Pair      Distance\n",
       "0        МНИТИ  10624.894092\n",
       "1    Школа 435  10057.758226\n",
       "2    Школа 414  10051.011713\n",
       "3     Византия   9871.888928\n",
       "4  Мята Lounge   9547.175252\n",
       "5       Bodrum   9420.643413\n",
       "6     Ешь хлеб   9154.010995\n",
       "7   Ля Фантази   9130.707662\n",
       "8     ШефДонер   9130.707662\n",
       "9  Take & Wake   9130.707662"
      ]
     },
     "metadata": {},
     "output_type": "display_data"
    }
   ],
   "source": [
    "distances_df = pd.DataFrame(furthest, columns=['Pair', 'Distance'])\n",
    "display(distances_df)"
   ]
  }
 ],
 "metadata": {
  "kernelspec": {
   "display_name": "spark-python",
   "language": "",
   "name": "spark-python"
  },
  "language_info": {
   "codemirror_mode": {
    "name": "ipython",
    "version": 3
   },
   "file_extension": ".py",
   "mimetype": "text/x-python",
   "name": "python",
   "nbconvert_exporter": "python",
   "pygments_lexer": "ipython3",
   "version": "3.7.3"
  }
 },
 "nbformat": 4,
 "nbformat_minor": 2
}
