{
 "cells": [
  {
   "cell_type": "code",
   "execution_count": 1,
   "metadata": {},
   "outputs": [
    {
     "name": "stdout",
     "output_type": "stream",
     "text": [
      "Задача № 1:  3\n",
      "Задача № 2:  1\n"
     ]
    }
   ],
   "source": [
    "surname = \"Кандрахин\" #Ваша фамилия\n",
    "\n",
    "alp = 'абвгдеёжзийклмнопрстуфхцчшщъыьэюя'\n",
    "w = [1, 42, 21, 21, 34,  6, 44, 26, 18, 44, 38, 26, 14, 43,  4, 49, 45,\n",
    "        7, 42, 29,  4,  9, 36, 34, 31, 29,  5, 30,  4, 19, 28, 25, 33]\n",
    "\n",
    "d = dict(zip(alp, w))\n",
    "variant =  sum([d[el] for el in surname.lower()]) % 40 + 1\n",
    "\n",
    "print(\"Задача № 1: \", variant % 3 + 1)\n",
    "print(\"Задача № 2: \", variant % 2 + 1 )"
   ]
  },
  {
   "cell_type": "code",
   "execution_count": 2,
   "metadata": {},
   "outputs": [],
   "source": [
    "genres = [\"Thriller\", \"Sci-Fi\", \"Adventure\"]"
   ]
  },
  {
   "cell_type": "markdown",
   "metadata": {},
   "source": [
    "ubuntu@linux:~/BigData/hadoop/bin$ ./hdfs dfs -copyFromLocal /home/ubuntu/Desktop/ml-latest-small/movies.csv /HW4_movies\n",
    "\n",
    "ubuntu@linux:~/BigData/hadoop/bin$ ./hdfs dfs -copyFromLocal /home/ubuntu/Desktop/ml-latest-small/ratings.csv /HW4_ratings"
   ]
  },
  {
   "cell_type": "code",
   "execution_count": 3,
   "metadata": {},
   "outputs": [],
   "source": [
    "from pyspark.sql import SparkSession\n",
    "from pyspark.sql.functions import explode, split, col, count, desc,  collect_list, slice\n"
   ]
  },
  {
   "cell_type": "code",
   "execution_count": 4,
   "metadata": {},
   "outputs": [],
   "source": [
    "spark = SparkSession.builder.appName(\"MovieAnalyzerTemp\").getOrCreate()"
   ]
  },
  {
   "cell_type": "markdown",
   "metadata": {},
   "source": [
    "# Задание 1. Анализ датасета"
   ]
  },
  {
   "cell_type": "markdown",
   "metadata": {},
   "source": [
    "## Выведите данные, сопоставляющие жанры и количество фильмов\n"
   ]
  },
  {
   "cell_type": "code",
   "execution_count": 5,
   "metadata": {},
   "outputs": [],
   "source": [
    "movies_df = spark.read.csv(\"/HW4_movies\", header=True)\n",
    "ratings_df = spark.read.csv(\"/HW4_ratings\", header=True)"
   ]
  },
  {
   "cell_type": "code",
   "execution_count": 6,
   "metadata": {},
   "outputs": [],
   "source": [
    "# Парсим жанры и разносим построчно, создавая новые экземпляры\n",
    "movies_df = movies_df.withColumn(\"genre\", explode(split(col(\"genres\"), \"\\|\")))"
   ]
  },
  {
   "cell_type": "code",
   "execution_count": 7,
   "metadata": {},
   "outputs": [
    {
     "name": "stdout",
     "output_type": "stream",
     "text": [
      "+------------------+-----+\n",
      "|             genre|count|\n",
      "+------------------+-----+\n",
      "|             Crime| 1199|\n",
      "|           Romance| 1596|\n",
      "|          Thriller| 1894|\n",
      "|         Adventure| 1263|\n",
      "|             Drama| 4361|\n",
      "|               War|  382|\n",
      "|       Documentary|  440|\n",
      "|           Fantasy|  779|\n",
      "|           Mystery|  573|\n",
      "|           Musical|  334|\n",
      "|         Animation|  611|\n",
      "|         Film-Noir|   87|\n",
      "|(no genres listed)|   34|\n",
      "|              IMAX|  158|\n",
      "|            Horror|  978|\n",
      "|           Western|  167|\n",
      "|            Comedy| 3756|\n",
      "|          Children|  664|\n",
      "|            Action| 1828|\n",
      "|            Sci-Fi|  980|\n",
      "+------------------+-----+\n",
      "\n"
     ]
    }
   ],
   "source": [
    "# Группируем по жанру и считаем\n",
    "genre_counts = movies_df.groupBy(\"genre\").count()\n",
    "genre_counts.show()"
   ]
  },
  {
   "cell_type": "markdown",
   "metadata": {},
   "source": [
    "## Выведите первые 10 фильмов с наибольшим количеством рейтингов для каждого жанра в соответствии с вариантом"
   ]
  },
  {
   "cell_type": "code",
   "execution_count": 8,
   "metadata": {},
   "outputs": [],
   "source": [
    "top_rated_movies = (movies_df\n",
    "                    .join(ratings_df, movies_df.movieId == ratings_df.movieId)\n",
    "                    .groupBy(\"genre\", \"title\")\n",
    "                    .count()\n",
    "                    .filter(col(\"genre\").isin(genres))\n",
    "                    .withColumnRenamed(\"count\", \"rating_count\")\n",
    "                    .orderBy(\"genre\", desc(\"rating_count\"))\n",
    "                    .groupBy(\"genre\")\n",
    "                    .agg(collect_list(\"title\").alias(\"top_movies\"))\n",
    "                    .select(\"genre\", slice(col(\"top_movies\"), 1, 10).alias(\"top_10_movies\")))"
   ]
  },
  {
   "cell_type": "code",
   "execution_count": 9,
   "metadata": {},
   "outputs": [
    {
     "name": "stdout",
     "output_type": "stream",
     "text": [
      "\n",
      "Жанр: Thriller\n",
      "\n",
      "Pulp Fiction (1994)\n",
      "Silence of the Lambs, The (1991)\n",
      "Matrix, The (1999)\n",
      "Jurassic Park (1993)\n",
      "Fight Club (1999)\n",
      "Usual Suspects, The (1995)\n",
      "Seven (a.k.a. Se7en) (1995)\n",
      "Independence Day (a.k.a. ID4) (1996)\n",
      "Fugitive, The (1993)\n",
      "Batman (1989)\n",
      "\n",
      "Жанр: Adventure\n",
      "\n",
      "Star Wars: Episode IV - A New Hope (1977)\n",
      "Jurassic Park (1993)\n",
      "Toy Story (1995)\n",
      "Star Wars: Episode V - The Empire Strikes Back (1980)\n",
      "Independence Day (a.k.a. ID4) (1996)\n",
      "Apollo 13 (1995)\n",
      "Raiders of the Lost Ark (Indiana Jones and the Raiders of the Lost Ark) (1981)\n",
      "Lord of the Rings: The Fellowship of the Ring, The (2001)\n",
      "Star Wars: Episode VI - Return of the Jedi (1983)\n",
      "Lord of the Rings: The Two Towers, The (2002)\n",
      "\n",
      "Жанр: Sci-Fi\n",
      "\n",
      "Matrix, The (1999)\n",
      "Star Wars: Episode IV - A New Hope (1977)\n",
      "Jurassic Park (1993)\n",
      "Terminator 2: Judgment Day (1991)\n",
      "Star Wars: Episode V - The Empire Strikes Back (1980)\n",
      "Independence Day (a.k.a. ID4) (1996)\n",
      "Star Wars: Episode VI - Return of the Jedi (1983)\n",
      "Twelve Monkeys (a.k.a. 12 Monkeys) (1995)\n",
      "Back to the Future (1985)\n",
      "Men in Black (a.k.a. MIB) (1997)\n"
     ]
    }
   ],
   "source": [
    "for row in top_rated_movies.rdd.collect():\n",
    "    genre = row['genre']\n",
    "    top_10_movies = row['top_10_movies']\n",
    "    \n",
    "    print(f\"\\nЖанр: {genre}\\n\")\n",
    "    for movie in top_10_movies:\n",
    "        print(f\"{movie}\")"
   ]
  },
  {
   "cell_type": "markdown",
   "metadata": {},
   "source": [
    "## Выведите первые 10 фильмов с наименьшим количеством рейтингов (но больше 10) для каждого жанра в соответствии с вариантом"
   ]
  },
  {
   "cell_type": "code",
   "execution_count": 10,
   "metadata": {},
   "outputs": [],
   "source": [
    "from pyspark.sql.window import Window\n",
    "from pyspark.sql.functions import rank, row_number, avg\n"
   ]
  },
  {
   "cell_type": "code",
   "execution_count": 11,
   "metadata": {},
   "outputs": [],
   "source": [
    "# посчитаем количество рейтинга для каждого фильма в каждом жанре\n",
    "movie_ratings_count = (movies_df\n",
    "                       .join(ratings_df, movies_df.movieId == ratings_df.movieId)\n",
    "                       .filter(col(\"genre\").isin(genres))\n",
    "                       .groupBy(\"genre\", \"title\")\n",
    "                       .count()\n",
    "                       .filter(col(\"count\") > 10)\n",
    "                       .withColumnRenamed(\"count\", \"rating_count\"))"
   ]
  },
  {
   "cell_type": "code",
   "execution_count": 12,
   "metadata": {},
   "outputs": [],
   "source": [
    "#movie_ratings_count.show()"
   ]
  },
  {
   "cell_type": "code",
   "execution_count": 13,
   "metadata": {},
   "outputs": [],
   "source": [
    "# Отсортируем по количеству рейтингов\n",
    "windowSpec = Window.partitionBy(\"genre\").orderBy(col(\"rating_count\").asc())\n",
    "movies_least_ratings = (movie_ratings_count\n",
    "                        .withColumn(\"row_number\", row_number().over(windowSpec))\n",
    "                        .filter(col(\"row_number\") <= 10)\n",
    "                        .select(\"genre\", \"title\", \"rating_count\"))\n"
   ]
  },
  {
   "cell_type": "code",
   "execution_count": 14,
   "metadata": {},
   "outputs": [
    {
     "name": "stdout",
     "output_type": "stream",
     "text": [
      "+---------+--------------------+------------+\n",
      "|    genre|               title|rating_count|\n",
      "+---------+--------------------+------------+\n",
      "| Thriller| Body of Lies (2008)|          11|\n",
      "| Thriller|Children of the C...|          11|\n",
      "| Thriller|      Thinner (1996)|          11|\n",
      "| Thriller|Young Sherlock Ho...|          11|\n",
      "| Thriller|Witches of Eastwi...|          11|\n",
      "| Thriller| Ringu (Ring) (1998)|          11|\n",
      "| Thriller|Stepford Wives, T...|          11|\n",
      "| Thriller|Red Rock West (1992)|          11|\n",
      "| Thriller|Green Hornet, The...|          11|\n",
      "| Thriller|      Frailty (2001)|          11|\n",
      "|Adventure|Oliver & Company ...|          11|\n",
      "|Adventure|Polar Express, Th...|          11|\n",
      "|Adventure|All Dogs Go to He...|          11|\n",
      "|Adventure|Chitty Chitty Ban...|          11|\n",
      "|Adventure|Bulletproof Monk ...|          11|\n",
      "|Adventure|    Edge, The (1997)|          11|\n",
      "|Adventure|Meet the Robinson...|          11|\n",
      "|Adventure|        Hanna (2011)|          11|\n",
      "|Adventure|      Hidalgo (2004)|          11|\n",
      "|Adventure|   Happy Feet (2006)|          11|\n",
      "|   Sci-Fi| Frankenstein (1931)|          11|\n",
      "|   Sci-Fi|Stepford Wives, T...|          11|\n",
      "|   Sci-Fi|The Amazing Spide...|          11|\n",
      "|   Sci-Fi|Transformers: Dar...|          11|\n",
      "|   Sci-Fi|Astronaut's Wife,...|          11|\n",
      "|   Sci-Fi|Bulletproof Monk ...|          11|\n",
      "|   Sci-Fi|  John Carter (2012)|          11|\n",
      "|   Sci-Fi|Solaris (Solyaris...|          11|\n",
      "|   Sci-Fi|Meet the Robinson...|          11|\n",
      "|   Sci-Fi|Black Panther (2017)|          11|\n",
      "+---------+--------------------+------------+\n",
      "\n"
     ]
    }
   ],
   "source": [
    "movies_least_ratings.show(movies_least_ratings.count(), truncate=True)"
   ]
  },
  {
   "cell_type": "markdown",
   "metadata": {},
   "source": [
    "## Выведите первые 10 фильмов с наибольшим средним рейтингом при количестве рейтингов больше 10 для каждого жанра в соответствии с вариантом"
   ]
  },
  {
   "cell_type": "code",
   "execution_count": 15,
   "metadata": {},
   "outputs": [],
   "source": [
    "movies_avg_rating = (movies_df\n",
    "                     .join(ratings_df, movies_df.movieId == ratings_df.movieId)\n",
    "                     .filter(col(\"genre\").isin(genres))\n",
    "                     .groupBy(\"genre\", \"title\")\n",
    "                     .agg(avg(\"rating\").alias(\"average_rating\"), count(\"rating\").alias(\"rating_count\"))\n",
    "                     .filter(col(\"rating_count\") > 10))"
   ]
  },
  {
   "cell_type": "code",
   "execution_count": 16,
   "metadata": {},
   "outputs": [],
   "source": [
    "windowSpec = Window.partitionBy(\"genre\").orderBy(col(\"average_rating\").desc())\n"
   ]
  },
  {
   "cell_type": "code",
   "execution_count": 17,
   "metadata": {},
   "outputs": [],
   "source": [
    "# Применяем оконную функцию row_number и выбираем первые 10 фильмов для каждого жанра\n",
    "top_movies_by_avg_rating = (movies_avg_rating\n",
    "                            .withColumn(\"row_number\", row_number().over(windowSpec))\n",
    "                            .filter(col(\"row_number\") <= 10)\n",
    "                            .select(\"genre\", \"title\", \"average_rating\"))\n"
   ]
  },
  {
   "cell_type": "code",
   "execution_count": 18,
   "metadata": {},
   "outputs": [
    {
     "name": "stdout",
     "output_type": "stream",
     "text": [
      "+---------+------------------------------------------------------------------------------+------------------+\n",
      "|genre    |title                                                                         |average_rating    |\n",
      "+---------+------------------------------------------------------------------------------+------------------+\n",
      "|Thriller |Fight Club (1999)                                                             |4.272935779816514 |\n",
      "|Thriller |Touch of Evil (1958)                                                          |4.264705882352941 |\n",
      "|Thriller |Rear Window (1954)                                                            |4.261904761904762 |\n",
      "|Thriller |Departed, The (2006)                                                          |4.252336448598131 |\n",
      "|Thriller |Outlaw Josey Wales, The (1976)                                                |4.25              |\n",
      "|Thriller |Notorious (1946)                                                              |4.25              |\n",
      "|Thriller |Manchurian Candidate, The (1962)                                              |4.25              |\n",
      "|Thriller |Usual Suspects, The (1995)                                                    |4.237745098039215 |\n",
      "|Thriller |Third Man, The (1949)                                                         |4.229166666666667 |\n",
      "|Thriller |Miller's Crossing (1990)                                                      |4.225             |\n",
      "|Adventure|Lawrence of Arabia (1962)                                                     |4.3               |\n",
      "|Adventure|Outlaw Josey Wales, The (1976)                                                |4.25              |\n",
      "|Adventure|Princess Bride, The (1987)                                                    |4.232394366197183 |\n",
      "|Adventure|Star Wars: Episode IV - A New Hope (1977)                                     |4.231075697211155 |\n",
      "|Adventure|Yojimbo (1961)                                                                |4.230769230769231 |\n",
      "|Adventure|Star Wars: Episode V - The Empire Strikes Back (1980)                         |4.2156398104265405|\n",
      "|Adventure|Raiders of the Lost Ark (Indiana Jones and the Raiders of the Lost Ark) (1981)|4.2075            |\n",
      "|Adventure|Seven Samurai (Shichinin no samurai) (1954)                                   |4.1875            |\n",
      "|Adventure|North by Northwest (1959)                                                     |4.184210526315789 |\n",
      "|Adventure|Monty Python and the Holy Grail (1975)                                        |4.161764705882353 |\n",
      "|Sci-Fi   |Logan (2017)                                                                  |4.28              |\n",
      "|Sci-Fi   |Star Wars: Episode IV - A New Hope (1977)                                     |4.231075697211155 |\n",
      "|Sci-Fi   |Star Wars: Episode V - The Empire Strikes Back (1980)                         |4.2156398104265405|\n",
      "|Sci-Fi   |Matrix, The (1999)                                                            |4.192446043165468 |\n",
      "|Sci-Fi   |Brazil (1985)                                                                 |4.177966101694915 |\n",
      "|Sci-Fi   |Eternal Sunshine of the Spotless Mind (2004)                                  |4.1603053435114505|\n",
      "|Sci-Fi   |Ghost in the Shell (Kôkaku kidôtai) (1995)                                    |4.148148148148148 |\n",
      "|Sci-Fi   |Star Wars: Episode VI - Return of the Jedi (1983)                             |4.137755102040816 |\n",
      "|Sci-Fi   |Blade Runner (1982)                                                           |4.100806451612903 |\n",
      "|Sci-Fi   |Solaris (Solyaris) (1972)                                                     |4.090909090909091 |\n",
      "+---------+------------------------------------------------------------------------------+------------------+\n",
      "\n"
     ]
    }
   ],
   "source": [
    "top_movies_by_avg_rating.show(movies_least_ratings.count(), truncate=False)"
   ]
  },
  {
   "cell_type": "markdown",
   "metadata": {},
   "source": [
    "## Выведите первые 10 фильмов с наименьшим средним рейтингом при количестве рейтингов больше 10 для каждого жанра в соответствии с вариантом"
   ]
  },
  {
   "cell_type": "code",
   "execution_count": 19,
   "metadata": {},
   "outputs": [],
   "source": [
    "windowSpec = Window.partitionBy(\"genre\").orderBy(col(\"average_rating\").asc())"
   ]
  },
  {
   "cell_type": "code",
   "execution_count": 20,
   "metadata": {},
   "outputs": [],
   "source": [
    "low_movies_by_avg_rating = (movies_avg_rating\n",
    "                               .withColumn(\"row_number\", row_number().over(windowSpec))\n",
    "                               .filter(col(\"row_number\") <= 10)\n",
    "                               .select(\"genre\", \"title\", \"average_rating\"))\n"
   ]
  },
  {
   "cell_type": "code",
   "execution_count": 21,
   "metadata": {},
   "outputs": [
    {
     "name": "stdout",
     "output_type": "stream",
     "text": [
      "+---------+---------------------------------------------------------------------------+------------------+\n",
      "|genre    |title                                                                      |average_rating    |\n",
      "+---------+---------------------------------------------------------------------------+------------------+\n",
      "|Thriller |Speed 2: Cruise Control (1997)                                             |1.605263157894737 |\n",
      "|Thriller |Rambo III (1988)                                                           |1.9166666666666667|\n",
      "|Thriller |Ultraviolet (2006)                                                         |1.9230769230769231|\n",
      "|Thriller |Anaconda (1997)                                                            |1.9259259259259258|\n",
      "|Thriller |Godzilla (1998)                                                            |1.9545454545454546|\n",
      "|Thriller |I Still Know What You Did Last Summer (1998)                               |2.0555555555555554|\n",
      "|Thriller |Fast and the Furious: Tokyo Drift, The (Fast and the Furious 3, The) (2006)|2.090909090909091 |\n",
      "|Thriller |Volcano (1997)                                                             |2.1               |\n",
      "|Thriller |I Know What You Did Last Summer (1997)                                     |2.109375          |\n",
      "|Thriller |Haunting, The (1999)                                                       |2.1153846153846154|\n",
      "|Adventure|Superman IV: The Quest for Peace (1987)                                    |1.6875            |\n",
      "|Adventure|Karate Kid, Part III, The (1989)                                           |1.75              |\n",
      "|Adventure|Dungeons & Dragons (2000)                                                  |1.8333333333333333|\n",
      "|Adventure|Rambo III (1988)                                                           |1.9166666666666667|\n",
      "|Adventure|Anaconda (1997)                                                            |1.9259259259259258|\n",
      "|Adventure|Super Mario Bros. (1993)                                                   |2.0               |\n",
      "|Adventure|Teenage Mutant Ninja Turtles III (1993)                                    |2.0714285714285716|\n",
      "|Adventure|Dukes of Hazzard, The (2005)                                               |2.0833333333333335|\n",
      "|Adventure|Inspector Gadget (1999)                                                    |2.0952380952380953|\n",
      "|Adventure|Howard the Duck (1986)                                                     |2.15625           |\n",
      "|Sci-Fi   |Battlefield Earth (2000)                                                   |1.6578947368421053|\n",
      "|Sci-Fi   |Superman IV: The Quest for Peace (1987)                                    |1.6875            |\n",
      "|Sci-Fi   |Ultraviolet (2006)                                                         |1.9230769230769231|\n",
      "|Sci-Fi   |Godzilla (1998)                                                            |1.9545454545454546|\n",
      "|Sci-Fi   |Super Mario Bros. (1993)                                                   |2.0               |\n",
      "|Sci-Fi   |Honey, I Blew Up the Kid (1992)                                            |2.05              |\n",
      "|Sci-Fi   |Howard the Duck (1986)                                                     |2.15625           |\n",
      "|Sci-Fi   |Universal Soldier (1992)                                                   |2.2058823529411766|\n",
      "|Sci-Fi   |Wild Wild West (1999)                                                      |2.207547169811321 |\n",
      "|Sci-Fi   |Superman III (1983)                                                        |2.25              |\n",
      "+---------+---------------------------------------------------------------------------+------------------+\n",
      "\n"
     ]
    }
   ],
   "source": [
    "low_movies_by_avg_rating.show(movies_least_ratings.count(), truncate=False)"
   ]
  },
  {
   "cell_type": "markdown",
   "metadata": {},
   "source": [
    "# Задание 2. Коллаборативная фильтрация\n",
    "### Вариант 1. По схожести пользователей"
   ]
  },
  {
   "cell_type": "code",
   "execution_count": 22,
   "metadata": {},
   "outputs": [],
   "source": [
    "from pyspark.ml.evaluation import RegressionEvaluator\n",
    "from pyspark.ml.recommendation import ALS\n",
    "from pyspark.sql.functions import col, avg, lit, udf, corr\n",
    "from pyspark.sql import functions as F\n"
   ]
  },
  {
   "cell_type": "code",
   "execution_count": 23,
   "metadata": {},
   "outputs": [],
   "source": [
    "ratings_df = ratings_df.withColumn(\"userId\", ratings_df[\"userId\"].cast(\"integer\"))\n",
    "ratings_df = ratings_df.withColumn(\"movieId\", ratings_df[\"movieId\"].cast(\"integer\"))\n",
    "ratings_df = ratings_df.withColumn(\"rating\", ratings_df[\"rating\"].cast(\"float\"))"
   ]
  },
  {
   "cell_type": "code",
   "execution_count": 24,
   "metadata": {},
   "outputs": [],
   "source": [
    "(train_init, test) = ratings_df.randomSplit([0.8, 0.2], seed=3)"
   ]
  },
  {
   "cell_type": "code",
   "execution_count": 25,
   "metadata": {},
   "outputs": [],
   "source": [
    "average_rating = train_init.select(avg(\"rating\")).first()[0]"
   ]
  },
  {
   "cell_type": "code",
   "execution_count": 26,
   "metadata": {},
   "outputs": [
    {
     "name": "stdout",
     "output_type": "stream",
     "text": [
      "Root-mean-square error = 1.0501373838186079\n"
     ]
    }
   ],
   "source": [
    "test = test.withColumn(\"avg_rating\", F.lit(average_rating))\n",
    "evaluator = RegressionEvaluator(metricName=\"rmse\", labelCol=\"rating\", predictionCol=\"avg_rating\")\n",
    "rmse = evaluator.evaluate(test)\n",
    "print(\"Root-mean-square error = \" + str(rmse))"
   ]
  },
  {
   "cell_type": "markdown",
   "metadata": {},
   "source": [
    "таблица схожести пользователей, pirson correlation"
   ]
  },
  {
   "cell_type": "code",
   "execution_count": 27,
   "metadata": {},
   "outputs": [],
   "source": [
    "user_similarity = train_init.alias(\"r1\").join(train_init.alias(\"r2\"), [\"movieId\"]) \\\n",
    "    .filter(col(\"r1.userId\") != col(\"r2.userId\")) \\\n",
    "    .groupBy(col(\"r1.userId\").alias(\"user1Id\"), col(\"r2.userId\").alias(\"user2Id\")) \\\n",
    "    .agg(corr(\"r1.rating\", \"r2.rating\").alias(\"similarity\")) \\\n",
    "    .na.fill(0)"
   ]
  },
  {
   "cell_type": "code",
   "execution_count": 28,
   "metadata": {},
   "outputs": [],
   "source": [
    "predicted_ratings = test.alias(\"t\") \\\n",
    "    .join(user_similarity.alias(\"u\"), col(\"t.userId\") == col(\"u.user1Id\")) \\\n",
    "    .join(train_init.alias(\"r\"), (col(\"u.user2Id\") == col(\"r.userId\")) & (col(\"r.movieId\") == col(\"t.movieId\"))) \\\n",
    "    .withColumn(\"weighted_rating\", col(\"r.rating\") * col(\"u.similarity\")) \\\n",
    "    .groupBy(\"t.userId\", \"t.movieId\") \\\n",
    "    .agg(F.sum(\"weighted_rating\").alias(\"sum_weighted_rating\"), F.sum(\"u.similarity\").alias(\"sum_similarity\")) \\\n",
    "    .withColumn(\"predicted_rating\", col(\"sum_weighted_rating\") / col(\"sum_similarity\"))\n"
   ]
  },
  {
   "cell_type": "code",
   "execution_count": 29,
   "metadata": {},
   "outputs": [],
   "source": [
    "predicted_ratings = predicted_ratings.na.drop(subset=[\"predicted_rating\"])"
   ]
  },
  {
   "cell_type": "code",
   "execution_count": 30,
   "metadata": {},
   "outputs": [
    {
     "name": "stdout",
     "output_type": "stream",
     "text": [
      "rmse = 129.75472341732237\n"
     ]
    }
   ],
   "source": [
    "evaluator = RegressionEvaluator(metricName=\"rmse\", labelCol=\"rating\", predictionCol=\"predicted_rating\")\n",
    "rmse = evaluator.evaluate(predicted_ratings.join(test, [\"userId\", \"movieId\"]))\n",
    "print(\"rmse = \" + str(rmse))"
   ]
  },
  {
   "cell_type": "markdown",
   "metadata": {},
   "source": [
    "# Задание 3. Факторизация матрицы\n"
   ]
  },
  {
   "cell_type": "code",
   "execution_count": 31,
   "metadata": {},
   "outputs": [],
   "source": [
    "from pyspark.ml.recommendation import ALS\n",
    "from pyspark.ml.evaluation import RegressionEvaluator\n",
    "from pyspark.ml.tuning import CrossValidator, ParamGridBuilder"
   ]
  },
  {
   "cell_type": "code",
   "execution_count": 32,
   "metadata": {},
   "outputs": [],
   "source": [
    "als = ALS(userCol=\"userId\", itemCol=\"movieId\", ratingCol=\"rating\", coldStartStrategy=\"drop\", nonnegative=True)"
   ]
  },
  {
   "cell_type": "code",
   "execution_count": 33,
   "metadata": {},
   "outputs": [],
   "source": [
    "paramGrid = ParamGridBuilder() \\\n",
    "    .addGrid(als.rank, [5, 10, 15]) \\\n",
    "    .addGrid(als.regParam, [0.001, 0.01, 0.1, 1, 10]) \\\n",
    "    .build()"
   ]
  },
  {
   "cell_type": "code",
   "execution_count": 34,
   "metadata": {},
   "outputs": [],
   "source": [
    "evaluator = RegressionEvaluator(metricName=\"rmse\", labelCol=\"rating\", predictionCol=\"prediction\")"
   ]
  },
  {
   "cell_type": "code",
   "execution_count": 35,
   "metadata": {},
   "outputs": [],
   "source": [
    "crossval = CrossValidator(estimator=als,\n",
    "                          estimatorParamMaps=paramGrid,\n",
    "                          evaluator=evaluator,\n",
    "                          numFolds=4) "
   ]
  },
  {
   "cell_type": "code",
   "execution_count": 36,
   "metadata": {},
   "outputs": [],
   "source": [
    "cvModel = crossval.fit(train_init)"
   ]
  },
  {
   "cell_type": "code",
   "execution_count": 37,
   "metadata": {},
   "outputs": [],
   "source": [
    "predictions = cvModel.transform(test)"
   ]
  },
  {
   "cell_type": "code",
   "execution_count": 38,
   "metadata": {},
   "outputs": [],
   "source": [
    "rmse = evaluator.evaluate(predictions)"
   ]
  },
  {
   "cell_type": "code",
   "execution_count": 39,
   "metadata": {},
   "outputs": [
    {
     "name": "stdout",
     "output_type": "stream",
     "text": [
      "rmse = 0.8842045182530374\n"
     ]
    }
   ],
   "source": [
    "print(\"rmse = \" + str(rmse))\n"
   ]
  },
  {
   "cell_type": "markdown",
   "metadata": {},
   "source": [
    "ALS оказался гораздо эффективнее чем использование корреляции Пирсона и регрессии"
   ]
  },
  {
   "cell_type": "code",
   "execution_count": 40,
   "metadata": {},
   "outputs": [
    {
     "name": "stdout",
     "output_type": "stream",
     "text": [
      "Лучший rank: 5\n",
      "Лучший regParam: 0.1\n"
     ]
    }
   ],
   "source": [
    "best_model = cvModel.bestModel\n",
    "best_rank = best_model.rank\n",
    "best_reg_param = best_model._java_obj.parent().getRegParam()\n",
    "\n",
    "print(\"Лучший rank:\", best_rank)\n",
    "print(\"Лучший regParam:\", best_reg_param)"
   ]
  },
  {
   "cell_type": "code",
   "execution_count": 41,
   "metadata": {},
   "outputs": [],
   "source": [
    "# best_rank = 10\n",
    "# best_reg_param = 0.1\n",
    "# final_als = ALS(userCol=\"userId\", itemCol=\"movieId\", ratingCol=\"rating\", coldStartStrategy=\"drop\", nonnegative=True,\n",
    "#                 rank=best_rank, regParam=best_reg_param)\n",
    "# final_model = final_als.fit(train_init)\n",
    "# final_predictions = final_model.transform(test)\n",
    "# final_rmse = evaluator.evaluate(final_predictions)"
   ]
  }
 ],
 "metadata": {
  "kernelspec": {
   "display_name": "spark-python",
   "language": "",
   "name": "spark-python"
  },
  "language_info": {
   "codemirror_mode": {
    "name": "ipython",
    "version": 3
   },
   "file_extension": ".py",
   "mimetype": "text/x-python",
   "name": "python",
   "nbconvert_exporter": "python",
   "pygments_lexer": "ipython3",
   "version": "3.7.3"
  }
 },
 "nbformat": 4,
 "nbformat_minor": 2
}
