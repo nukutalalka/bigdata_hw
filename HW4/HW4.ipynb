{
 "cells": [
  {
   "cell_type": "code",
   "execution_count": 1,
   "metadata": {},
   "outputs": [
    {
     "name": "stdout",
     "output_type": "stream",
     "text": [
      "Задача № 1:  3\n",
      "Задача № 2:  1\n"
     ]
    }
   ],
   "source": [
    "surname = \"Кандрахин\" #Ваша фамилия\n",
    "\n",
    "alp = 'абвгдеёжзийклмнопрстуфхцчшщъыьэюя'\n",
    "w = [1, 42, 21, 21, 34,  6, 44, 26, 18, 44, 38, 26, 14, 43,  4, 49, 45,\n",
    "        7, 42, 29,  4,  9, 36, 34, 31, 29,  5, 30,  4, 19, 28, 25, 33]\n",
    "\n",
    "d = dict(zip(alp, w))\n",
    "variant =  sum([d[el] for el in surname.lower()]) % 40 + 1\n",
    "\n",
    "print(\"Задача № 1: \", variant % 3 + 1)\n",
    "print(\"Задача № 2: \", variant % 2 + 1 )"
   ]
  },
  {
   "cell_type": "code",
   "execution_count": 2,
   "metadata": {},
   "outputs": [],
   "source": [
    "genres = [\"Animation\", \"Romance\", \"Documentary\"]"
   ]
  },
  {
   "cell_type": "markdown",
   "metadata": {},
   "source": [
    "ubuntu@linux:~/BigData/hadoop/bin$ ./hdfs dfs -copyFromLocal /home/ubuntu/Desktop/ml-latest-small/movies.csv /HW4_movies\n",
    "\n",
    "ubuntu@linux:~/BigData/hadoop/bin$ ./hdfs dfs -copyFromLocal /home/ubuntu/Desktop/ml-latest-small/ratings.csv /HW4_ratings"
   ]
  },
  {
   "cell_type": "code",
   "execution_count": 3,
   "metadata": {},
   "outputs": [],
   "source": [
    "from pyspark.sql import SparkSession\n",
    "from pyspark.sql.functions import explode, split, col, count, desc,  collect_list, slice\n"
   ]
  },
  {
   "cell_type": "code",
   "execution_count": 4,
   "metadata": {},
   "outputs": [],
   "source": [
    "spark = SparkSession.builder.appName(\"MovieAnalyzerTemp\").getOrCreate()"
   ]
  },
  {
   "cell_type": "markdown",
   "metadata": {},
   "source": [
    "# Задание 1. Анализ датасета"
   ]
  },
  {
   "cell_type": "markdown",
   "metadata": {},
   "source": [
    "## Выведите данные, сопоставляющие жанры и количество фильмов\n"
   ]
  },
  {
   "cell_type": "code",
   "execution_count": 5,
   "metadata": {},
   "outputs": [],
   "source": [
    "movies_df = spark.read.csv(\"/HW4_movies\", header=True)\n",
    "ratings_df = spark.read.csv(\"/HW4_ratings\", header=True)"
   ]
  },
  {
   "cell_type": "code",
   "execution_count": 6,
   "metadata": {},
   "outputs": [],
   "source": [
    "# Парсим жанры и разносим построчно, создавая новые экземпляры\n",
    "movies_df = movies_df.withColumn(\"genre\", explode(split(col(\"genres\"), \"\\|\")))"
   ]
  },
  {
   "cell_type": "code",
   "execution_count": 7,
   "metadata": {},
   "outputs": [
    {
     "name": "stdout",
     "output_type": "stream",
     "text": [
      "+------------------+-----+\n",
      "|             genre|count|\n",
      "+------------------+-----+\n",
      "|             Crime| 1199|\n",
      "|           Romance| 1596|\n",
      "|          Thriller| 1894|\n",
      "|         Adventure| 1263|\n",
      "|             Drama| 4361|\n",
      "|               War|  382|\n",
      "|       Documentary|  440|\n",
      "|           Fantasy|  779|\n",
      "|           Mystery|  573|\n",
      "|           Musical|  334|\n",
      "|         Animation|  611|\n",
      "|         Film-Noir|   87|\n",
      "|(no genres listed)|   34|\n",
      "|              IMAX|  158|\n",
      "|            Horror|  978|\n",
      "|           Western|  167|\n",
      "|            Comedy| 3756|\n",
      "|          Children|  664|\n",
      "|            Action| 1828|\n",
      "|            Sci-Fi|  980|\n",
      "+------------------+-----+\n",
      "\n"
     ]
    }
   ],
   "source": [
    "# Группируем по жанру и считаем\n",
    "genre_counts = movies_df.groupBy(\"genre\").count()\n",
    "genre_counts.show()"
   ]
  },
  {
   "cell_type": "markdown",
   "metadata": {},
   "source": [
    "## Выведите первые 10 фильмов с наибольшим количеством рейтингов для каждого жанра в соответствии с вариантом"
   ]
  },
  {
   "cell_type": "code",
   "execution_count": 8,
   "metadata": {},
   "outputs": [],
   "source": [
    "top_rated_movies = (movies_df\n",
    "                    .join(ratings_df, movies_df.movieId == ratings_df.movieId)\n",
    "                    .groupBy(\"genre\", \"title\")\n",
    "                    .count()\n",
    "                    .filter(col(\"genre\").isin(genres))\n",
    "                    .withColumnRenamed(\"count\", \"rating_count\")\n",
    "                    .orderBy(\"genre\", desc(\"rating_count\"))\n",
    "                    .groupBy(\"genre\")\n",
    "                    .agg(collect_list(\"title\").alias(\"top_movies\"))\n",
    "                    .select(\"genre\", slice(col(\"top_movies\"), 1, 10).alias(\"top_10_movies\")))"
   ]
  },
  {
   "cell_type": "code",
   "execution_count": 9,
   "metadata": {},
   "outputs": [
    {
     "name": "stdout",
     "output_type": "stream",
     "text": [
      "\n",
      "Жанр: Romance\n",
      "\n",
      "Forrest Gump (1994)\n",
      "American Beauty (1999)\n",
      "True Lies (1994)\n",
      "Speed (1994)\n",
      "Shrek (2001)\n",
      "Beauty and the Beast (1991)\n",
      "Groundhog Day (1993)\n",
      "Princess Bride, The (1987)\n",
      "Good Will Hunting (1997)\n",
      "Titanic (1997)\n",
      "\n",
      "Жанр: Documentary\n",
      "\n",
      "Bowling for Columbine (2002)\n",
      "Super Size Me (2004)\n",
      "Fahrenheit 9/11 (2004)\n",
      "Roger & Me (1989)\n",
      "Hoop Dreams (1994)\n",
      "March of the Penguins (Marche de l'empereur, La) (2005)\n",
      "Crumb (1994)\n",
      "Jackass: The Movie (2002)\n",
      "Sicko (2007)\n",
      "Spellbound (2002)\n",
      "\n",
      "Жанр: Animation\n",
      "\n",
      "Toy Story (1995)\n",
      "Aladdin (1992)\n",
      "Lion King, The (1994)\n",
      "Shrek (2001)\n",
      "Beauty and the Beast (1991)\n",
      "Finding Nemo (2003)\n",
      "Monsters, Inc. (2001)\n",
      "Incredibles, The (2004)\n",
      "Up (2009)\n",
      "WALL·E (2008)\n"
     ]
    }
   ],
   "source": [
    "for row in top_rated_movies.rdd.collect():\n",
    "    genre = row['genre']\n",
    "    top_10_movies = row['top_10_movies']\n",
    "    \n",
    "    print(f\"\\nЖанр: {genre}\\n\")\n",
    "    for movie in top_10_movies:\n",
    "        print(f\"{movie}\")"
   ]
  },
  {
   "cell_type": "markdown",
   "metadata": {},
   "source": [
    "## Выведите первые 10 фильмов с наименьшим количеством рейтингов (но больше 10) для каждого жанра в соответствии с вариантом"
   ]
  },
  {
   "cell_type": "code",
   "execution_count": 10,
   "metadata": {},
   "outputs": [],
   "source": [
    "from pyspark.sql.window import Window\n",
    "from pyspark.sql.functions import rank, row_number, avg\n"
   ]
  },
  {
   "cell_type": "code",
   "execution_count": 11,
   "metadata": {},
   "outputs": [],
   "source": [
    "# посчитаем количество рейтинга для каждого фильма в каждом жанре\n",
    "movie_ratings_count = (movies_df\n",
    "                       .join(ratings_df, movies_df.movieId == ratings_df.movieId)\n",
    "                       .filter(col(\"genre\").isin(genres))\n",
    "                       .groupBy(\"genre\", \"title\")\n",
    "                       .count()\n",
    "                       .filter(col(\"count\") > 10)\n",
    "                       .withColumnRenamed(\"count\", \"rating_count\"))"
   ]
  },
  {
   "cell_type": "code",
   "execution_count": 12,
   "metadata": {},
   "outputs": [],
   "source": [
    "#movie_ratings_count.show()"
   ]
  },
  {
   "cell_type": "code",
   "execution_count": 13,
   "metadata": {},
   "outputs": [],
   "source": [
    "# Отсортируем по количеству рейтингов\n",
    "windowSpec = Window.partitionBy(\"genre\").orderBy(col(\"rating_count\").asc())\n",
    "movies_least_ratings = (movie_ratings_count\n",
    "                        .withColumn(\"row_number\", row_number().over(windowSpec))\n",
    "                        .filter(col(\"row_number\") <= 10)\n",
    "                        .select(\"genre\", \"title\", \"rating_count\"))\n"
   ]
  },
  {
   "cell_type": "code",
   "execution_count": 14,
   "metadata": {},
   "outputs": [
    {
     "name": "stdout",
     "output_type": "stream",
     "text": [
      "+-----------+--------------------+------------+\n",
      "|      genre|               title|rating_count|\n",
      "+-----------+--------------------+------------+\n",
      "|    Romance|Across the Univer...|          11|\n",
      "|    Romance|All Dogs Go to He...|          11|\n",
      "|    Romance|From Here to Eter...|          11|\n",
      "|    Romance| Medicine Man (1992)|          11|\n",
      "|    Romance|Great Expectation...|          11|\n",
      "|    Romance|Autumn in New Yor...|          11|\n",
      "|    Romance|   Persuasion (1995)|          11|\n",
      "|    Romance|This Means War (2...|          11|\n",
      "|    Romance|Science of Sleep,...|          11|\n",
      "|    Romance|When a Man Loves ...|          11|\n",
      "|Documentary|Koyaanisqatsi (a....|          11|\n",
      "|Documentary|Thin Blue Line, T...|          11|\n",
      "|Documentary|King of Kong, The...|          12|\n",
      "|Documentary|   Inside Job (2010)|          12|\n",
      "|Documentary|   Spellbound (2002)|          13|\n",
      "|Documentary|Exit Through the ...|          13|\n",
      "|Documentary|Inconvenient Trut...|          13|\n",
      "|Documentary|Fog of War: Eleve...|          13|\n",
      "|Documentary|        Sicko (2007)|          14|\n",
      "|Documentary|        Crumb (1994)|          17|\n",
      "|  Animation|All Dogs Go to He...|          11|\n",
      "|  Animation|Hotel Transylvani...|          11|\n",
      "|  Animation|Polar Express, Th...|          11|\n",
      "|  Animation|   Persepolis (2007)|          11|\n",
      "|  Animation|Oliver & Company ...|          11|\n",
      "|  Animation|How the Grinch St...|          11|\n",
      "|  Animation|   Happy Feet (2006)|          11|\n",
      "|  Animation|Meet the Robinson...|          11|\n",
      "|  Animation|Ponyo (Gake no ue...|          11|\n",
      "|  Animation|Adventures of Tin...|          12|\n",
      "+-----------+--------------------+------------+\n",
      "\n"
     ]
    }
   ],
   "source": [
    "movies_least_ratings.show(movies_least_ratings.count(), truncate=True)"
   ]
  },
  {
   "cell_type": "markdown",
   "metadata": {},
   "source": [
    "## Выведите первые 10 фильмов с наибольшим средним рейтингом при количестве рейтингов больше 10 для каждого жанра в соответствии с вариантом"
   ]
  },
  {
   "cell_type": "code",
   "execution_count": 15,
   "metadata": {},
   "outputs": [],
   "source": [
    "movies_avg_rating = (movies_df\n",
    "                     .join(ratings_df, movies_df.movieId == ratings_df.movieId)\n",
    "                     .filter(col(\"genre\").isin(genres))\n",
    "                     .groupBy(\"genre\", \"title\")\n",
    "                     .agg(avg(\"rating\").alias(\"average_rating\"), count(\"rating\").alias(\"rating_count\"))\n",
    "                     .filter(col(\"rating_count\") > 10))"
   ]
  },
  {
   "cell_type": "code",
   "execution_count": 16,
   "metadata": {},
   "outputs": [],
   "source": [
    "windowSpec = Window.partitionBy(\"genre\").orderBy(col(\"average_rating\").desc())\n"
   ]
  },
  {
   "cell_type": "code",
   "execution_count": 17,
   "metadata": {},
   "outputs": [],
   "source": [
    "# Применяем оконную функцию row_number и выбираем первые 10 фильмов для каждого жанра\n",
    "top_movies_by_avg_rating = (movies_avg_rating\n",
    "                            .withColumn(\"row_number\", row_number().over(windowSpec))\n",
    "                            .filter(col(\"row_number\") <= 10)\n",
    "                            .select(\"genre\", \"title\", \"average_rating\"))\n"
   ]
  },
  {
   "cell_type": "code",
   "execution_count": 18,
   "metadata": {},
   "outputs": [
    {
     "name": "stdout",
     "output_type": "stream",
     "text": [
      "+-----------+--------------------------------------------------------------------------+------------------+\n",
      "|genre      |title                                                                     |average_rating    |\n",
      "+-----------+--------------------------------------------------------------------------+------------------+\n",
      "|Romance    |His Girl Friday (1940)                                                    |4.392857142857143 |\n",
      "|Romance    |Sunset Blvd. (a.k.a. Sunset Boulevard) (1950)                             |4.333333333333333 |\n",
      "|Romance    |It Happened One Night (1934)                                              |4.321428571428571 |\n",
      "|Romance    |Philadelphia Story, The (1940)                                            |4.310344827586207 |\n",
      "|Romance    |Harold and Maude (1971)                                                   |4.288461538461538 |\n",
      "|Romance    |Notorious (1946)                                                          |4.25              |\n",
      "|Romance    |Casablanca (1942)                                                         |4.24              |\n",
      "|Romance    |Princess Bride, The (1987)                                                |4.232394366197183 |\n",
      "|Romance    |Persuasion (1995)                                                         |4.2272727272727275|\n",
      "|Romance    |To Catch a Thief (1955)                                                   |4.217391304347826 |\n",
      "|Documentary|Fog of War: Eleven Lessons from the Life of Robert S. McNamara, The (2003)|4.3076923076923075|\n",
      "|Documentary|Hoop Dreams (1994)                                                        |4.293103448275862 |\n",
      "|Documentary|Inside Job (2010)                                                         |4.291666666666667 |\n",
      "|Documentary|Crumb (1994)                                                              |4.205882352941177 |\n",
      "|Documentary|Exit Through the Gift Shop (2010)                                         |4.038461538461538 |\n",
      "|Documentary|Thin Blue Line, The (1988)                                                |4.0               |\n",
      "|Documentary|Spellbound (2002)                                                         |3.923076923076923 |\n",
      "|Documentary|King of Kong, The (2007)                                                  |3.9166666666666665|\n",
      "|Documentary|Koyaanisqatsi (a.k.a. Koyaanisqatsi: Life Out of Balance) (1983)          |3.8636363636363638|\n",
      "|Documentary|Roger & Me (1989)                                                         |3.838709677419355 |\n",
      "|Animation  |Creature Comforts (1989)                                                  |4.25              |\n",
      "|Animation  |Persepolis (2007)                                                         |4.181818181818182 |\n",
      "|Animation  |Grave of the Fireflies (Hotaru no haka) (1988)                            |4.15625           |\n",
      "|Animation  |Spirited Away (Sen to Chihiro no kamikakushi) (2001)                      |4.155172413793103 |\n",
      "|Animation  |Ghost in the Shell (Kôkaku kidôtai) (1995)                                |4.148148148148148 |\n",
      "|Animation  |Batman: Mask of the Phantasm (1993)                                       |4.115384615384615 |\n",
      "|Animation  |Toy Story 3 (2010)                                                        |4.109090909090909 |\n",
      "|Animation  |Wallace & Gromit: The Best of Aardman Animation (1996)                    |4.092592592592593 |\n",
      "|Animation  |Grand Day Out with Wallace and Gromit, A (1989)                           |4.089285714285714 |\n",
      "|Animation  |Fantastic Mr. Fox (2009)                                                  |4.083333333333333 |\n",
      "+-----------+--------------------------------------------------------------------------+------------------+\n",
      "\n"
     ]
    }
   ],
   "source": [
    "top_movies_by_avg_rating.show(movies_least_ratings.count(), truncate=False)"
   ]
  },
  {
   "cell_type": "markdown",
   "metadata": {},
   "source": [
    "## Выведите первые 10 фильмов с наименьшим средним рейтингом при количестве рейтингов больше 10 для каждого жанра в соответствии с вариантом"
   ]
  },
  {
   "cell_type": "code",
   "execution_count": 19,
   "metadata": {},
   "outputs": [],
   "source": [
    "windowSpec = Window.partitionBy(\"genre\").orderBy(col(\"average_rating\").asc())"
   ]
  },
  {
   "cell_type": "code",
   "execution_count": 20,
   "metadata": {},
   "outputs": [],
   "source": [
    "low_movies_by_avg_rating = (movies_avg_rating\n",
    "                               .withColumn(\"row_number\", row_number().over(windowSpec))\n",
    "                               .filter(col(\"row_number\") <= 10)\n",
    "                               .select(\"genre\", \"title\", \"average_rating\"))\n"
   ]
  },
  {
   "cell_type": "code",
   "execution_count": 21,
   "metadata": {},
   "outputs": [
    {
     "name": "stdout",
     "output_type": "stream",
     "text": [
      "+-----------+----------------------------------------------------------------+------------------+\n",
      "|genre      |title                                                           |average_rating    |\n",
      "+-----------+----------------------------------------------------------------+------------------+\n",
      "|Romance    |Speed 2: Cruise Control (1997)                                  |1.605263157894737 |\n",
      "|Romance    |Grease 2 (1982)                                                 |2.0789473684210527|\n",
      "|Romance    |Bewitched (2005)                                                |2.269230769230769 |\n",
      "|Romance    |Next Karate Kid, The (1994)                                     |2.3666666666666667|\n",
      "|Romance    |Joe Dirt (2001)                                                 |2.380952380952381 |\n",
      "|Romance    |Look Who's Talking (1989)                                       |2.388888888888889 |\n",
      "|Romance    |Autumn in New York (2000)                                       |2.409090909090909 |\n",
      "|Romance    |Twilight (2008)                                                 |2.409090909090909 |\n",
      "|Romance    |Sex and the City (2008)                                         |2.409090909090909 |\n",
      "|Romance    |Down to Earth (2001)                                            |2.4166666666666665|\n",
      "|Documentary|Fahrenheit 9/11 (2004)                                          |3.4864864864864864|\n",
      "|Documentary|Jackass: The Movie (2002)                                       |3.5               |\n",
      "|Documentary|Super Size Me (2004)                                            |3.51              |\n",
      "|Documentary|March of the Penguins (Marche de l'empereur, La) (2005)         |3.5555555555555554|\n",
      "|Documentary|Inconvenient Truth, An (2006)                                   |3.576923076923077 |\n",
      "|Documentary|Sicko (2007)                                                    |3.7142857142857144|\n",
      "|Documentary|Bowling for Columbine (2002)                                    |3.7758620689655173|\n",
      "|Documentary|Roger & Me (1989)                                               |3.838709677419355 |\n",
      "|Documentary|Koyaanisqatsi (a.k.a. Koyaanisqatsi: Life Out of Balance) (1983)|3.8636363636363638|\n",
      "|Documentary|King of Kong, The (2007)                                        |3.9166666666666665|\n",
      "|Animation  |Shark Tale (2004)                                               |2.3461538461538463|\n",
      "|Animation  |Ice Age: Dawn of the Dinosaurs (2009)                           |2.607142857142857 |\n",
      "|Animation  |Happy Feet (2006)                                               |2.6818181818181817|\n",
      "|Animation  |All Dogs Go to Heaven (1989)                                    |2.7               |\n",
      "|Animation  |Space Jam (1996)                                                |2.707547169811321 |\n",
      "|Animation  |Pete's Dragon (1977)                                            |2.7666666666666666|\n",
      "|Animation  |Small Soldiers (1998)                                           |2.8333333333333335|\n",
      "|Animation  |Beavis and Butt-Head Do America (1996)                          |2.935483870967742 |\n",
      "|Animation  |Goofy Movie, A (1995)                                           |3.0               |\n",
      "|Animation  |Shrek the Third (2007)                                          |3.0238095238095237|\n",
      "+-----------+----------------------------------------------------------------+------------------+\n",
      "\n"
     ]
    }
   ],
   "source": [
    "low_movies_by_avg_rating.show(movies_least_ratings.count(), truncate=False)"
   ]
  },
  {
   "cell_type": "markdown",
   "metadata": {},
   "source": [
    "# Задание 2. Коллаборативная фильтрация\n",
    "### Вариант 1. По схожести пользователей"
   ]
  },
  {
   "cell_type": "code",
   "execution_count": 22,
   "metadata": {},
   "outputs": [],
   "source": [
    "from pyspark.ml.evaluation import RegressionEvaluator\n",
    "from pyspark.ml.recommendation import ALS\n",
    "from pyspark.sql.functions import col, avg, lit, udf, corr\n",
    "from pyspark.sql import functions as F\n"
   ]
  },
  {
   "cell_type": "code",
   "execution_count": 23,
   "metadata": {},
   "outputs": [],
   "source": [
    "ratings_df = ratings_df.withColumn(\"userId\", ratings_df[\"userId\"].cast(\"integer\"))\n",
    "ratings_df = ratings_df.withColumn(\"movieId\", ratings_df[\"movieId\"].cast(\"integer\"))\n",
    "ratings_df = ratings_df.withColumn(\"rating\", ratings_df[\"rating\"].cast(\"float\"))"
   ]
  },
  {
   "cell_type": "code",
   "execution_count": 24,
   "metadata": {},
   "outputs": [],
   "source": [
    "(train_init, test) = ratings_df.randomSplit([0.8, 0.2], seed=3)"
   ]
  },
  {
   "cell_type": "code",
   "execution_count": 25,
   "metadata": {},
   "outputs": [],
   "source": [
    "average_rating = train_init.select(avg(\"rating\")).first()[0]"
   ]
  },
  {
   "cell_type": "code",
   "execution_count": 26,
   "metadata": {},
   "outputs": [
    {
     "name": "stdout",
     "output_type": "stream",
     "text": [
      "Root-mean-square error = 1.0501373838186079\n"
     ]
    }
   ],
   "source": [
    "test = test.withColumn(\"avg_rating\", F.lit(average_rating))\n",
    "evaluator = RegressionEvaluator(metricName=\"rmse\", labelCol=\"rating\", predictionCol=\"avg_rating\")\n",
    "rmse = evaluator.evaluate(test)\n",
    "print(\"Root-mean-square error = \" + str(rmse))"
   ]
  },
  {
   "cell_type": "markdown",
   "metadata": {},
   "source": [
    "таблица схожести пользователей, pirson correlation"
   ]
  },
  {
   "cell_type": "code",
   "execution_count": 27,
   "metadata": {},
   "outputs": [],
   "source": [
    "user_similarity = train_init.alias(\"r1\").join(train_init.alias(\"r2\"), [\"movieId\"]) \\\n",
    "    .filter(col(\"r1.userId\") != col(\"r2.userId\")) \\\n",
    "    .groupBy(col(\"r1.userId\").alias(\"user1Id\"), col(\"r2.userId\").alias(\"user2Id\")) \\\n",
    "    .agg(corr(\"r1.rating\", \"r2.rating\").alias(\"similarity\")) \\\n",
    "    .na.fill(0)"
   ]
  },
  {
   "cell_type": "code",
   "execution_count": 28,
   "metadata": {},
   "outputs": [],
   "source": [
    "predicted_ratings = test.alias(\"t\") \\\n",
    "    .join(user_similarity.alias(\"u\"), col(\"t.userId\") == col(\"u.user1Id\")) \\\n",
    "    .join(train_init.alias(\"r\"), (col(\"u.user2Id\") == col(\"r.userId\")) & (col(\"r.movieId\") == col(\"t.movieId\"))) \\\n",
    "    .withColumn(\"weighted_rating\", col(\"r.rating\") * col(\"u.similarity\")) \\\n",
    "    .groupBy(\"t.userId\", \"t.movieId\") \\\n",
    "    .agg(F.sum(\"weighted_rating\").alias(\"sum_weighted_rating\"), F.sum(\"u.similarity\").alias(\"sum_similarity\")) \\\n",
    "    .withColumn(\"predicted_rating\", col(\"sum_weighted_rating\") / col(\"sum_similarity\"))\n"
   ]
  },
  {
   "cell_type": "code",
   "execution_count": 29,
   "metadata": {},
   "outputs": [],
   "source": [
    "predicted_ratings = predicted_ratings.na.drop(subset=[\"predicted_rating\"])"
   ]
  },
  {
   "cell_type": "code",
   "execution_count": 30,
   "metadata": {},
   "outputs": [
    {
     "name": "stdout",
     "output_type": "stream",
     "text": [
      "rmse = 129.75472341732237\n"
     ]
    }
   ],
   "source": [
    "evaluator = RegressionEvaluator(metricName=\"rmse\", labelCol=\"rating\", predictionCol=\"predicted_rating\")\n",
    "rmse = evaluator.evaluate(predicted_ratings.join(test, [\"userId\", \"movieId\"]))\n",
    "print(\"rmse = \" + str(rmse))"
   ]
  },
  {
   "cell_type": "markdown",
   "metadata": {},
   "source": [
    "# Задание 3. Факторизация матрицы\n"
   ]
  },
  {
   "cell_type": "code",
   "execution_count": 32,
   "metadata": {},
   "outputs": [],
   "source": [
    "from pyspark.ml.recommendation import ALS\n",
    "from pyspark.ml.evaluation import RegressionEvaluator\n",
    "from pyspark.ml.tuning import CrossValidator, ParamGridBuilder"
   ]
  },
  {
   "cell_type": "code",
   "execution_count": 33,
   "metadata": {},
   "outputs": [],
   "source": [
    "als = ALS(userCol=\"userId\", itemCol=\"movieId\", ratingCol=\"rating\", coldStartStrategy=\"drop\", nonnegative=True)"
   ]
  },
  {
   "cell_type": "code",
   "execution_count": 34,
   "metadata": {},
   "outputs": [],
   "source": [
    "paramGrid = ParamGridBuilder() \\\n",
    "    .addGrid(als.rank, [5, 10, 15]) \\\n",
    "    .addGrid(als.regParam, [0.001, 0.01, 0.1, 1, 10]) \\\n",
    "    .build()"
   ]
  },
  {
   "cell_type": "code",
   "execution_count": 35,
   "metadata": {},
   "outputs": [],
   "source": [
    "evaluator = RegressionEvaluator(metricName=\"rmse\", labelCol=\"rating\", predictionCol=\"prediction\")"
   ]
  },
  {
   "cell_type": "code",
   "execution_count": 36,
   "metadata": {},
   "outputs": [],
   "source": [
    "crossval = CrossValidator(estimator=als,\n",
    "                          estimatorParamMaps=paramGrid,\n",
    "                          evaluator=evaluator,\n",
    "                          numFolds=4) "
   ]
  },
  {
   "cell_type": "code",
   "execution_count": 37,
   "metadata": {},
   "outputs": [],
   "source": [
    "cvModel = crossval.fit(train_init)"
   ]
  },
  {
   "cell_type": "code",
   "execution_count": 38,
   "metadata": {},
   "outputs": [],
   "source": [
    "predictions = cvModel.transform(test)"
   ]
  },
  {
   "cell_type": "code",
   "execution_count": 39,
   "metadata": {},
   "outputs": [],
   "source": [
    "rmse = evaluator.evaluate(predictions)"
   ]
  },
  {
   "cell_type": "code",
   "execution_count": 40,
   "metadata": {},
   "outputs": [
    {
     "name": "stdout",
     "output_type": "stream",
     "text": [
      "rmse = 0.8879947697856218\n"
     ]
    }
   ],
   "source": [
    "print(\"rmse = \" + str(rmse))\n"
   ]
  },
  {
   "cell_type": "markdown",
   "metadata": {},
   "source": [
    "ALS оказался гораздо эффективнее чем использование корреляции Пирсона и регрессии"
   ]
  },
  {
   "cell_type": "code",
   "execution_count": 41,
   "metadata": {},
   "outputs": [
    {
     "name": "stdout",
     "output_type": "stream",
     "text": [
      "Лучший rank: 10\n",
      "Лучший regParam: 0.1\n"
     ]
    }
   ],
   "source": [
    "best_model = cvModel.bestModel\n",
    "best_rank = best_model.rank\n",
    "best_reg_param = best_model._java_obj.parent().getRegParam()\n",
    "\n",
    "print(\"Лучший rank:\", best_rank)\n",
    "print(\"Лучший regParam:\", best_reg_param)"
   ]
  },
  {
   "cell_type": "code",
   "execution_count": null,
   "metadata": {},
   "outputs": [],
   "source": [
    "# best_rank = 10\n",
    "# best_reg_param = 0.1\n",
    "# final_als = ALS(userCol=\"userId\", itemCol=\"movieId\", ratingCol=\"rating\", coldStartStrategy=\"drop\", nonnegative=True,\n",
    "#                 rank=best_rank, regParam=best_reg_param)\n",
    "# final_model = final_als.fit(train_init)\n",
    "# final_predictions = final_model.transform(test)\n",
    "# final_rmse = evaluator.evaluate(final_predictions)"
   ]
  }
 ],
 "metadata": {
  "kernelspec": {
   "display_name": "spark-python",
   "language": "",
   "name": "spark-python"
  },
  "language_info": {
   "codemirror_mode": {
    "name": "ipython",
    "version": 3
   },
   "file_extension": ".py",
   "mimetype": "text/x-python",
   "name": "python",
   "nbconvert_exporter": "python",
   "pygments_lexer": "ipython3",
   "version": "3.7.3"
  }
 },
 "nbformat": 4,
 "nbformat_minor": 2
}
